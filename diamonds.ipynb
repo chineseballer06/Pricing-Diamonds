{
 "cells": [
  {
   "cell_type": "markdown",
   "metadata": {},
   "source": [
    "# Predictin Diamond Prices"
   ]
  },
  {
   "cell_type": "markdown",
   "metadata": {},
   "source": [
    "**Objective:** Build a model that will predict price for each record, given an input file with the same layout as diamonds.txt minus price.\n",
    "\n",
    "- **Data:** Tab delimited text file with header and 40,000 records of **“round”** diamonds \n",
    "- **Price:** in US dollars\n",
    "- **Cut:** quality of the cut (Fair, Good, Very Good, Premium, Ideal)\n",
    "- **Color:** diamond color, from J (worst) to D (best)\n",
    "- **Clarity:** a measurement of how clear the diamond is (I1 (worst), SI2, SI1, VS2, VS1, VVS2, VVS1, IF (best))\n",
    "- **Depth:** total depth percentage = z / mean(x, y) = 2 * z / (x + y)\n",
    "- **Table:** width of top of diamond relative to widest point\n",
    "- **X:** length in mm \n",
    "- **Y:** width in mm \n",
    "- **Z:** depth in mm "
   ]
  },
  {
   "cell_type": "markdown",
   "metadata": {},
   "source": [
    "## Obtain Data"
   ]
  },
  {
   "cell_type": "code",
   "execution_count": 1,
   "metadata": {},
   "outputs": [],
   "source": [
    "import pandas as pd\n",
    "import numpy as np\n",
    "import matplotlib.pyplot as plt\n",
    "%matplotlib inline\n",
    "import seaborn as sns\n",
    "\n",
    "from sklearn.model_selection import train_test_split\n",
    "from sklearn.preprocessing import Normalizer\n",
    "from sklearn.metrics import mean_squared_error, r2_score\n",
    "from sklearn.model_selection import cross_val_score\n",
    "from sklearn import linear_model\n",
    "import statsmodels.api as sm"
   ]
  },
  {
   "cell_type": "code",
   "execution_count": 2,
   "metadata": {},
   "outputs": [
    {
     "data": {
      "text/html": [
       "<div>\n",
       "<style scoped>\n",
       "    .dataframe tbody tr th:only-of-type {\n",
       "        vertical-align: middle;\n",
       "    }\n",
       "\n",
       "    .dataframe tbody tr th {\n",
       "        vertical-align: top;\n",
       "    }\n",
       "\n",
       "    .dataframe thead th {\n",
       "        text-align: right;\n",
       "    }\n",
       "</style>\n",
       "<table border=\"1\" class=\"dataframe\">\n",
       "  <thead>\n",
       "    <tr style=\"text-align: right;\">\n",
       "      <th></th>\n",
       "      <th>price</th>\n",
       "      <th>cut</th>\n",
       "      <th>color</th>\n",
       "      <th>clarity</th>\n",
       "      <th>depth</th>\n",
       "      <th>table</th>\n",
       "      <th>x</th>\n",
       "      <th>y</th>\n",
       "      <th>z</th>\n",
       "    </tr>\n",
       "  </thead>\n",
       "  <tbody>\n",
       "    <tr>\n",
       "      <th>0</th>\n",
       "      <td>326</td>\n",
       "      <td>Premium</td>\n",
       "      <td>E</td>\n",
       "      <td>SI1</td>\n",
       "      <td>59.8</td>\n",
       "      <td>61.0</td>\n",
       "      <td>3.89</td>\n",
       "      <td>3.84</td>\n",
       "      <td>2.31</td>\n",
       "    </tr>\n",
       "    <tr>\n",
       "      <th>1</th>\n",
       "      <td>335</td>\n",
       "      <td>Good</td>\n",
       "      <td>J</td>\n",
       "      <td>SI2</td>\n",
       "      <td>63.3</td>\n",
       "      <td>58.0</td>\n",
       "      <td>4.34</td>\n",
       "      <td>4.35</td>\n",
       "      <td>2.75</td>\n",
       "    </tr>\n",
       "    <tr>\n",
       "      <th>2</th>\n",
       "      <td>336</td>\n",
       "      <td>Very Good</td>\n",
       "      <td>J</td>\n",
       "      <td>VVS2</td>\n",
       "      <td>62.8</td>\n",
       "      <td>57.0</td>\n",
       "      <td>3.94</td>\n",
       "      <td>3.96</td>\n",
       "      <td>2.48</td>\n",
       "    </tr>\n",
       "    <tr>\n",
       "      <th>3</th>\n",
       "      <td>336</td>\n",
       "      <td>Very Good</td>\n",
       "      <td>I</td>\n",
       "      <td>VVS1</td>\n",
       "      <td>62.3</td>\n",
       "      <td>57.0</td>\n",
       "      <td>3.95</td>\n",
       "      <td>3.98</td>\n",
       "      <td>2.47</td>\n",
       "    </tr>\n",
       "    <tr>\n",
       "      <th>4</th>\n",
       "      <td>337</td>\n",
       "      <td>Very Good</td>\n",
       "      <td>H</td>\n",
       "      <td>SI1</td>\n",
       "      <td>61.9</td>\n",
       "      <td>55.0</td>\n",
       "      <td>4.07</td>\n",
       "      <td>4.11</td>\n",
       "      <td>2.53</td>\n",
       "    </tr>\n",
       "  </tbody>\n",
       "</table>\n",
       "</div>"
      ],
      "text/plain": [
       "   price        cut color clarity  depth  table     x     y     z\n",
       "0    326    Premium     E     SI1   59.8   61.0  3.89  3.84  2.31\n",
       "1    335       Good     J     SI2   63.3   58.0  4.34  4.35  2.75\n",
       "2    336  Very Good     J    VVS2   62.8   57.0  3.94  3.96  2.48\n",
       "3    336  Very Good     I    VVS1   62.3   57.0  3.95  3.98  2.47\n",
       "4    337  Very Good     H     SI1   61.9   55.0  4.07  4.11  2.53"
      ]
     },
     "execution_count": 2,
     "metadata": {},
     "output_type": "execute_result"
    }
   ],
   "source": [
    "df = pd.read_csv('diamonds.txt', sep = '\\t')\n",
    "df.head()"
   ]
  },
  {
   "cell_type": "code",
   "execution_count": 3,
   "metadata": {},
   "outputs": [
    {
     "name": "stdout",
     "output_type": "stream",
     "text": [
      "<class 'pandas.core.frame.DataFrame'>\n",
      "RangeIndex: 40000 entries, 0 to 39999\n",
      "Data columns (total 9 columns):\n",
      "price      40000 non-null int64\n",
      "cut        40000 non-null object\n",
      "color      40000 non-null object\n",
      "clarity    40000 non-null object\n",
      "depth      40000 non-null float64\n",
      "table      40000 non-null float64\n",
      "x          40000 non-null float64\n",
      "y          40000 non-null float64\n",
      "z          40000 non-null float64\n",
      "dtypes: float64(5), int64(1), object(3)\n",
      "memory usage: 2.7+ MB\n"
     ]
    }
   ],
   "source": [
    "df.info()"
   ]
  },
  {
   "cell_type": "markdown",
   "metadata": {},
   "source": [
    "## Clean/Explore Data"
   ]
  },
  {
   "cell_type": "code",
   "execution_count": 4,
   "metadata": {},
   "outputs": [
    {
     "data": {
      "text/plain": [
       "price      False\n",
       "cut        False\n",
       "color      False\n",
       "clarity    False\n",
       "depth      False\n",
       "table      False\n",
       "x          False\n",
       "y          False\n",
       "z          False\n",
       "dtype: bool"
      ]
     },
     "execution_count": 4,
     "metadata": {},
     "output_type": "execute_result"
    }
   ],
   "source": [
    "# says there are 40,000 non-null values but let's do a sanity check\n",
    "df.isna().any()"
   ]
  },
  {
   "cell_type": "markdown",
   "metadata": {},
   "source": [
    "There are no null values so now let's check the distributions of the features."
   ]
  },
  {
   "cell_type": "code",
   "execution_count": 5,
   "metadata": {},
   "outputs": [
    {
     "data": {
      "image/png": "[encoded data removed]",
      "text/plain": [
       "<Figure size 432x288 with 1 Axes>"
      ]
     },
     "metadata": {
      "needs_background": "light"
     },
     "output_type": "display_data"
    },
    {
     "data": {
      "image/png": "[encoded data removed]",
      "text/plain": [
       "<Figure size 432x288 with 1 Axes>"
      ]
     },
     "metadata": {
      "needs_background": "light"
     },
     "output_type": "display_data"
    },
    {
     "data": {
      "image/png": "[encoded data removed]",
      "text/plain": [
       "<Figure size 432x288 with 1 Axes>"
      ]
     },
     "metadata": {
      "needs_background": "light"
     },
     "output_type": "display_data"
    }
   ],
   "source": [
    "# Check categorical features\n",
    "cat_cols = ['cut', 'color', 'clarity']\n",
    "for col in cat_cols:\n",
    "    sns.countplot(df[col])\n",
    "    plt.show()"
   ]
  },
  {
   "cell_type": "markdown",
   "metadata": {},
   "source": [
    "The categorical features look fine, now let's check the numerical features."
   ]
  },
  {
   "cell_type": "code",
   "execution_count": 6,
   "metadata": {},
   "outputs": [
    {
     "data": {
      "text/html": [
       "<div>\n",
       "<style scoped>\n",
       "    .dataframe tbody tr th:only-of-type {\n",
       "        vertical-align: middle;\n",
       "    }\n",
       "\n",
       "    .dataframe tbody tr th {\n",
       "        vertical-align: top;\n",
       "    }\n",
       "\n",
       "    .dataframe thead th {\n",
       "        text-align: right;\n",
       "    }\n",
       "</style>\n",
       "<table border=\"1\" class=\"dataframe\">\n",
       "  <thead>\n",
       "    <tr style=\"text-align: right;\">\n",
       "      <th></th>\n",
       "      <th>count</th>\n",
       "      <th>mean</th>\n",
       "      <th>std</th>\n",
       "      <th>min</th>\n",
       "      <th>25%</th>\n",
       "      <th>50%</th>\n",
       "      <th>75%</th>\n",
       "      <th>max</th>\n",
       "    </tr>\n",
       "  </thead>\n",
       "  <tbody>\n",
       "    <tr>\n",
       "      <th>price</th>\n",
       "      <td>40000.0</td>\n",
       "      <td>3938.823200</td>\n",
       "      <td>3991.590829</td>\n",
       "      <td>326.0</td>\n",
       "      <td>947.75</td>\n",
       "      <td>2416.00</td>\n",
       "      <td>5351.00</td>\n",
       "      <td>18823.00</td>\n",
       "    </tr>\n",
       "    <tr>\n",
       "      <th>depth</th>\n",
       "      <td>40000.0</td>\n",
       "      <td>61.741918</td>\n",
       "      <td>1.425448</td>\n",
       "      <td>43.0</td>\n",
       "      <td>61.00</td>\n",
       "      <td>61.80</td>\n",
       "      <td>62.50</td>\n",
       "      <td>79.00</td>\n",
       "    </tr>\n",
       "    <tr>\n",
       "      <th>table</th>\n",
       "      <td>40000.0</td>\n",
       "      <td>57.462855</td>\n",
       "      <td>2.238584</td>\n",
       "      <td>43.0</td>\n",
       "      <td>56.00</td>\n",
       "      <td>57.00</td>\n",
       "      <td>59.00</td>\n",
       "      <td>95.00</td>\n",
       "    </tr>\n",
       "    <tr>\n",
       "      <th>x</th>\n",
       "      <td>40000.0</td>\n",
       "      <td>5.732488</td>\n",
       "      <td>1.121778</td>\n",
       "      <td>0.0</td>\n",
       "      <td>4.71</td>\n",
       "      <td>5.70</td>\n",
       "      <td>6.54</td>\n",
       "      <td>10.74</td>\n",
       "    </tr>\n",
       "    <tr>\n",
       "      <th>y</th>\n",
       "      <td>40000.0</td>\n",
       "      <td>5.735252</td>\n",
       "      <td>1.121122</td>\n",
       "      <td>0.0</td>\n",
       "      <td>4.72</td>\n",
       "      <td>5.71</td>\n",
       "      <td>6.54</td>\n",
       "      <td>31.80</td>\n",
       "    </tr>\n",
       "    <tr>\n",
       "      <th>z</th>\n",
       "      <td>40000.0</td>\n",
       "      <td>3.538651</td>\n",
       "      <td>0.694769</td>\n",
       "      <td>0.0</td>\n",
       "      <td>2.91</td>\n",
       "      <td>3.53</td>\n",
       "      <td>4.04</td>\n",
       "      <td>6.98</td>\n",
       "    </tr>\n",
       "  </tbody>\n",
       "</table>\n",
       "</div>"
      ],
      "text/plain": [
       "         count         mean          std    min     25%      50%      75%  \\\n",
       "price  40000.0  3938.823200  3991.590829  326.0  947.75  2416.00  5351.00   \n",
       "depth  40000.0    61.741918     1.425448   43.0   61.00    61.80    62.50   \n",
       "table  40000.0    57.462855     2.238584   43.0   56.00    57.00    59.00   \n",
       "x      40000.0     5.732488     1.121778    0.0    4.71     5.70     6.54   \n",
       "y      40000.0     5.735252     1.121122    0.0    4.72     5.71     6.54   \n",
       "z      40000.0     3.538651     0.694769    0.0    2.91     3.53     4.04   \n",
       "\n",
       "            max  \n",
       "price  18823.00  \n",
       "depth     79.00  \n",
       "table     95.00  \n",
       "x         10.74  \n",
       "y         31.80  \n",
       "z          6.98  "
      ]
     },
     "execution_count": 6,
     "metadata": {},
     "output_type": "execute_result"
    }
   ],
   "source": [
    "df.describe().T"
   ]
  },
  {
   "cell_type": "code",
   "execution_count": 7,
   "metadata": {},
   "outputs": [
    {
     "data": {
      "image/png": "[encoded data removed]",
      "text/plain": [
       "<Figure size 720x576 with 6 Axes>"
      ]
     },
     "metadata": {
      "needs_background": "light"
     },
     "output_type": "display_data"
    }
   ],
   "source": [
    "df.hist(figsize=(10,8))\n",
    "plt.tight_layout()\n",
    "plt.show()"
   ]
  },
  {
   "cell_type": "markdown",
   "metadata": {},
   "source": [
    "Some very obvious skew with the target variable, 'price'. Can log transform and decide later on which target variable to use. Also there seem to be some odd values for 'x', 'y', and 'z' with them having minimum values of 0 in some cases. I am not a diamond expert but that seems odd. Let's check how many of these rows have these outliers."
   ]
  },
  {
   "cell_type": "code",
   "execution_count": 8,
   "metadata": {},
   "outputs": [
    {
     "name": "stdout",
     "output_type": "stream",
     "text": [
      "Number of rows where x = 6\n",
      "Number of rows where y = 5\n",
      "Number of rows where z = 14\n"
     ]
    }
   ],
   "source": [
    "for col in ['x', 'y', 'z']:\n",
    "    print('Number of rows where {} = {}'.format(col, (df[col] == 0).sum()))"
   ]
  },
  {
   "cell_type": "code",
   "execution_count": 9,
   "metadata": {},
   "outputs": [
    {
     "data": {
      "text/plain": [
       "-14"
      ]
     },
     "execution_count": 9,
     "metadata": {},
     "output_type": "execute_result"
    }
   ],
   "source": [
    "df[['x','y','z']] = df[['x','y','z']].replace(0, np.NaN)\n",
    "len(df.dropna()) - len(df)"
   ]
  },
  {
   "cell_type": "markdown",
   "metadata": {},
   "source": [
    "14 rows out of 40000 won't make much of a difference so we can drop these rows."
   ]
  },
  {
   "cell_type": "code",
   "execution_count": 10,
   "metadata": {},
   "outputs": [],
   "source": [
    "df.dropna(inplace=True)"
   ]
  },
  {
   "cell_type": "markdown",
   "metadata": {},
   "source": [
    "## Feature Engineering"
   ]
  },
  {
   "cell_type": "code",
   "execution_count": 11,
   "metadata": {},
   "outputs": [],
   "source": [
    "# log transform target variable 'price' since it is skewed\n",
    "df['log_price'] = np.log(df.price)"
   ]
  },
  {
   "cell_type": "code",
   "execution_count": 12,
   "metadata": {},
   "outputs": [
    {
     "data": {
      "image/png": "[encoded data removed]",
      "text/plain": [
       "<Figure size 432x288 with 1 Axes>"
      ]
     },
     "metadata": {
      "needs_background": "light"
     },
     "output_type": "display_data"
    }
   ],
   "source": [
    "df.log_price.hist()\n",
    "plt.show()"
   ]
  },
  {
   "cell_type": "markdown",
   "metadata": {},
   "source": [
    "The distribution for price after being log transformed looks much better to be applied to modeling.\n",
    "<br>\n",
    "\n",
    "One feature that I believe would be important is to calculate the carat for each diamond.  According to this [link](https://www.jewelrynotes.com/how-to-measure-round-diamonds/), since all the diamonds in the dataset are \"round\" diamonds, we can use the formula \n",
    "<br>\n",
    "\n",
    "$carat$ = $(girdleDiameter^{2})$ $(z)$ $(0.006)$ \n",
    "<br>\n",
    "\n",
    "And the girdle diameter can be found by taking $mean(x, y)$"
   ]
  },
  {
   "cell_type": "code",
   "execution_count": 13,
   "metadata": {},
   "outputs": [],
   "source": [
    "# create g_diameter feature\n",
    "df['g_diameter'] = (df.x + df.y)/2"
   ]
  },
  {
   "cell_type": "code",
   "execution_count": 14,
   "metadata": {},
   "outputs": [],
   "source": [
    "# create carat feature\n",
    "df['carat'] = np.round(df.g_diameter**2*df.z*0.006, 2)"
   ]
  },
  {
   "cell_type": "code",
   "execution_count": 15,
   "metadata": {},
   "outputs": [
    {
     "data": {
      "text/html": [
       "<div>\n",
       "<style scoped>\n",
       "    .dataframe tbody tr th:only-of-type {\n",
       "        vertical-align: middle;\n",
       "    }\n",
       "\n",
       "    .dataframe tbody tr th {\n",
       "        vertical-align: top;\n",
       "    }\n",
       "\n",
       "    .dataframe thead th {\n",
       "        text-align: right;\n",
       "    }\n",
       "</style>\n",
       "<table border=\"1\" class=\"dataframe\">\n",
       "  <thead>\n",
       "    <tr style=\"text-align: right;\">\n",
       "      <th></th>\n",
       "      <th>price</th>\n",
       "      <th>cut</th>\n",
       "      <th>color</th>\n",
       "      <th>clarity</th>\n",
       "      <th>depth</th>\n",
       "      <th>table</th>\n",
       "      <th>x</th>\n",
       "      <th>y</th>\n",
       "      <th>z</th>\n",
       "      <th>log_price</th>\n",
       "      <th>g_diameter</th>\n",
       "      <th>carat</th>\n",
       "    </tr>\n",
       "  </thead>\n",
       "  <tbody>\n",
       "    <tr>\n",
       "      <th>0</th>\n",
       "      <td>326</td>\n",
       "      <td>Premium</td>\n",
       "      <td>E</td>\n",
       "      <td>SI1</td>\n",
       "      <td>59.8</td>\n",
       "      <td>61.0</td>\n",
       "      <td>3.89</td>\n",
       "      <td>3.84</td>\n",
       "      <td>2.31</td>\n",
       "      <td>5.786897</td>\n",
       "      <td>3.865</td>\n",
       "      <td>0.21</td>\n",
       "    </tr>\n",
       "    <tr>\n",
       "      <th>1</th>\n",
       "      <td>335</td>\n",
       "      <td>Good</td>\n",
       "      <td>J</td>\n",
       "      <td>SI2</td>\n",
       "      <td>63.3</td>\n",
       "      <td>58.0</td>\n",
       "      <td>4.34</td>\n",
       "      <td>4.35</td>\n",
       "      <td>2.75</td>\n",
       "      <td>5.814131</td>\n",
       "      <td>4.345</td>\n",
       "      <td>0.31</td>\n",
       "    </tr>\n",
       "    <tr>\n",
       "      <th>2</th>\n",
       "      <td>336</td>\n",
       "      <td>Very Good</td>\n",
       "      <td>J</td>\n",
       "      <td>VVS2</td>\n",
       "      <td>62.8</td>\n",
       "      <td>57.0</td>\n",
       "      <td>3.94</td>\n",
       "      <td>3.96</td>\n",
       "      <td>2.48</td>\n",
       "      <td>5.817111</td>\n",
       "      <td>3.950</td>\n",
       "      <td>0.23</td>\n",
       "    </tr>\n",
       "    <tr>\n",
       "      <th>3</th>\n",
       "      <td>336</td>\n",
       "      <td>Very Good</td>\n",
       "      <td>I</td>\n",
       "      <td>VVS1</td>\n",
       "      <td>62.3</td>\n",
       "      <td>57.0</td>\n",
       "      <td>3.95</td>\n",
       "      <td>3.98</td>\n",
       "      <td>2.47</td>\n",
       "      <td>5.817111</td>\n",
       "      <td>3.965</td>\n",
       "      <td>0.23</td>\n",
       "    </tr>\n",
       "    <tr>\n",
       "      <th>4</th>\n",
       "      <td>337</td>\n",
       "      <td>Very Good</td>\n",
       "      <td>H</td>\n",
       "      <td>SI1</td>\n",
       "      <td>61.9</td>\n",
       "      <td>55.0</td>\n",
       "      <td>4.07</td>\n",
       "      <td>4.11</td>\n",
       "      <td>2.53</td>\n",
       "      <td>5.820083</td>\n",
       "      <td>4.090</td>\n",
       "      <td>0.25</td>\n",
       "    </tr>\n",
       "  </tbody>\n",
       "</table>\n",
       "</div>"
      ],
      "text/plain": [
       "   price        cut color clarity  depth  table     x     y     z  log_price  \\\n",
       "0    326    Premium     E     SI1   59.8   61.0  3.89  3.84  2.31   5.786897   \n",
       "1    335       Good     J     SI2   63.3   58.0  4.34  4.35  2.75   5.814131   \n",
       "2    336  Very Good     J    VVS2   62.8   57.0  3.94  3.96  2.48   5.817111   \n",
       "3    336  Very Good     I    VVS1   62.3   57.0  3.95  3.98  2.47   5.817111   \n",
       "4    337  Very Good     H     SI1   61.9   55.0  4.07  4.11  2.53   5.820083   \n",
       "\n",
       "   g_diameter  carat  \n",
       "0       3.865   0.21  \n",
       "1       4.345   0.31  \n",
       "2       3.950   0.23  \n",
       "3       3.965   0.23  \n",
       "4       4.090   0.25  "
      ]
     },
     "execution_count": 15,
     "metadata": {},
     "output_type": "execute_result"
    }
   ],
   "source": [
    "df.head()"
   ]
  },
  {
   "cell_type": "code",
   "execution_count": 16,
   "metadata": {},
   "outputs": [
    {
     "data": {
      "image/png": "[encoded data removed]",
      "text/plain": [
       "<Figure size 864x360 with 2 Axes>"
      ]
     },
     "metadata": {
      "needs_background": "light"
     },
     "output_type": "display_data"
    }
   ],
   "source": [
    "df[['g_diameter', 'carat']].hist(figsize=(12,5))\n",
    "plt.tight_layout()\n",
    "plt.show()"
   ]
  },
  {
   "cell_type": "code",
   "execution_count": 17,
   "metadata": {},
   "outputs": [
    {
     "data": {
      "image/png": "[encoded data removed]",
      "text/plain": [
       "<Figure size 864x360 with 2 Axes>"
      ]
     },
     "metadata": {
      "needs_background": "light"
     },
     "output_type": "display_data"
    }
   ],
   "source": [
    "# log transform newly engineered features due to skew\n",
    "df['log_g_diameter'] = np.log(df.g_diameter)\n",
    "df['log_carat'] = np.log(df.carat)\n",
    "\n",
    "df[['log_g_diameter', 'log_carat']].hist(figsize=(12,5))\n",
    "plt.tight_layout()\n",
    "plt.show()"
   ]
  },
  {
   "cell_type": "markdown",
   "metadata": {},
   "source": [
    "## Check for Collinearity"
   ]
  },
  {
   "cell_type": "code",
   "execution_count": 18,
   "metadata": {
    "scrolled": false
   },
   "outputs": [
    {
     "data": {
      "image/png": "[encoded data removed]",
      "text/plain": [
       "<Figure size 792x648 with 2 Axes>"
      ]
     },
     "metadata": {},
     "output_type": "display_data"
    }
   ],
   "source": [
    "# Set the style of the visualization\n",
    "sns.set(style=\"white\")\n",
    "\n",
    "# Create a covariance matrix\n",
    "corr = df.corr()\n",
    "\n",
    "# Set up the matplotlib figure\n",
    "f, ax = plt.subplots(figsize=(11,9))\n",
    "\n",
    "# Generate a custom diverging colormap\n",
    "cmap = sns.diverging_palette(220, 10, as_cmap=True)\n",
    "\n",
    "# Draw the heatmap with the mask and correct aspect ratio\n",
    "sns.heatmap(corr, cmap=cmap, center=0,\n",
    "            square=True, linewidths=.5, cbar_kws={\"shrink\": .5}, annot=True);"
   ]
  },
  {
   "cell_type": "markdown",
   "metadata": {},
   "source": [
    "From the heatmap above, can see that price correlates strongly to all the features except 'depth' and 'table'. There is also obvious collinearity between many of the features. \n",
    "<br>\n",
    "\n",
    "Now let's just double check for collinearity after getting our dummy variables for the categorical features."
   ]
  },
  {
   "cell_type": "code",
   "execution_count": 19,
   "metadata": {},
   "outputs": [
    {
     "data": {
      "text/html": [
       "<div>\n",
       "<style scoped>\n",
       "    .dataframe tbody tr th:only-of-type {\n",
       "        vertical-align: middle;\n",
       "    }\n",
       "\n",
       "    .dataframe tbody tr th {\n",
       "        vertical-align: top;\n",
       "    }\n",
       "\n",
       "    .dataframe thead th {\n",
       "        text-align: right;\n",
       "    }\n",
       "</style>\n",
       "<table border=\"1\" class=\"dataframe\">\n",
       "  <thead>\n",
       "    <tr style=\"text-align: right;\">\n",
       "      <th></th>\n",
       "      <th>price</th>\n",
       "      <th>depth</th>\n",
       "      <th>table</th>\n",
       "      <th>x</th>\n",
       "      <th>y</th>\n",
       "      <th>z</th>\n",
       "      <th>log_price</th>\n",
       "      <th>g_diameter</th>\n",
       "      <th>carat</th>\n",
       "      <th>log_g_diameter</th>\n",
       "      <th>...</th>\n",
       "      <th>color_H</th>\n",
       "      <th>color_I</th>\n",
       "      <th>color_J</th>\n",
       "      <th>clarity_IF</th>\n",
       "      <th>clarity_SI1</th>\n",
       "      <th>clarity_SI2</th>\n",
       "      <th>clarity_VS1</th>\n",
       "      <th>clarity_VS2</th>\n",
       "      <th>clarity_VVS1</th>\n",
       "      <th>clarity_VVS2</th>\n",
       "    </tr>\n",
       "  </thead>\n",
       "  <tbody>\n",
       "    <tr>\n",
       "      <th>0</th>\n",
       "      <td>326</td>\n",
       "      <td>59.8</td>\n",
       "      <td>61.0</td>\n",
       "      <td>3.89</td>\n",
       "      <td>3.84</td>\n",
       "      <td>2.31</td>\n",
       "      <td>5.786897</td>\n",
       "      <td>3.865</td>\n",
       "      <td>0.21</td>\n",
       "      <td>1.351962</td>\n",
       "      <td>...</td>\n",
       "      <td>0</td>\n",
       "      <td>0</td>\n",
       "      <td>0</td>\n",
       "      <td>0</td>\n",
       "      <td>1</td>\n",
       "      <td>0</td>\n",
       "      <td>0</td>\n",
       "      <td>0</td>\n",
       "      <td>0</td>\n",
       "      <td>0</td>\n",
       "    </tr>\n",
       "    <tr>\n",
       "      <th>1</th>\n",
       "      <td>335</td>\n",
       "      <td>63.3</td>\n",
       "      <td>58.0</td>\n",
       "      <td>4.34</td>\n",
       "      <td>4.35</td>\n",
       "      <td>2.75</td>\n",
       "      <td>5.814131</td>\n",
       "      <td>4.345</td>\n",
       "      <td>0.31</td>\n",
       "      <td>1.469026</td>\n",
       "      <td>...</td>\n",
       "      <td>0</td>\n",
       "      <td>0</td>\n",
       "      <td>1</td>\n",
       "      <td>0</td>\n",
       "      <td>0</td>\n",
       "      <td>1</td>\n",
       "      <td>0</td>\n",
       "      <td>0</td>\n",
       "      <td>0</td>\n",
       "      <td>0</td>\n",
       "    </tr>\n",
       "    <tr>\n",
       "      <th>2</th>\n",
       "      <td>336</td>\n",
       "      <td>62.8</td>\n",
       "      <td>57.0</td>\n",
       "      <td>3.94</td>\n",
       "      <td>3.96</td>\n",
       "      <td>2.48</td>\n",
       "      <td>5.817111</td>\n",
       "      <td>3.950</td>\n",
       "      <td>0.23</td>\n",
       "      <td>1.373716</td>\n",
       "      <td>...</td>\n",
       "      <td>0</td>\n",
       "      <td>0</td>\n",
       "      <td>1</td>\n",
       "      <td>0</td>\n",
       "      <td>0</td>\n",
       "      <td>0</td>\n",
       "      <td>0</td>\n",
       "      <td>0</td>\n",
       "      <td>0</td>\n",
       "      <td>1</td>\n",
       "    </tr>\n",
       "    <tr>\n",
       "      <th>3</th>\n",
       "      <td>336</td>\n",
       "      <td>62.3</td>\n",
       "      <td>57.0</td>\n",
       "      <td>3.95</td>\n",
       "      <td>3.98</td>\n",
       "      <td>2.47</td>\n",
       "      <td>5.817111</td>\n",
       "      <td>3.965</td>\n",
       "      <td>0.23</td>\n",
       "      <td>1.377506</td>\n",
       "      <td>...</td>\n",
       "      <td>0</td>\n",
       "      <td>1</td>\n",
       "      <td>0</td>\n",
       "      <td>0</td>\n",
       "      <td>0</td>\n",
       "      <td>0</td>\n",
       "      <td>0</td>\n",
       "      <td>0</td>\n",
       "      <td>1</td>\n",
       "      <td>0</td>\n",
       "    </tr>\n",
       "    <tr>\n",
       "      <th>4</th>\n",
       "      <td>337</td>\n",
       "      <td>61.9</td>\n",
       "      <td>55.0</td>\n",
       "      <td>4.07</td>\n",
       "      <td>4.11</td>\n",
       "      <td>2.53</td>\n",
       "      <td>5.820083</td>\n",
       "      <td>4.090</td>\n",
       "      <td>0.25</td>\n",
       "      <td>1.408545</td>\n",
       "      <td>...</td>\n",
       "      <td>1</td>\n",
       "      <td>0</td>\n",
       "      <td>0</td>\n",
       "      <td>0</td>\n",
       "      <td>1</td>\n",
       "      <td>0</td>\n",
       "      <td>0</td>\n",
       "      <td>0</td>\n",
       "      <td>0</td>\n",
       "      <td>0</td>\n",
       "    </tr>\n",
       "  </tbody>\n",
       "</table>\n",
       "<p>5 rows × 28 columns</p>\n",
       "</div>"
      ],
      "text/plain": [
       "   price  depth  table     x     y     z  log_price  g_diameter  carat  \\\n",
       "0    326   59.8   61.0  3.89  3.84  2.31   5.786897       3.865   0.21   \n",
       "1    335   63.3   58.0  4.34  4.35  2.75   5.814131       4.345   0.31   \n",
       "2    336   62.8   57.0  3.94  3.96  2.48   5.817111       3.950   0.23   \n",
       "3    336   62.3   57.0  3.95  3.98  2.47   5.817111       3.965   0.23   \n",
       "4    337   61.9   55.0  4.07  4.11  2.53   5.820083       4.090   0.25   \n",
       "\n",
       "   log_g_diameter      ...       color_H  color_I  color_J  clarity_IF  \\\n",
       "0        1.351962      ...             0        0        0           0   \n",
       "1        1.469026      ...             0        0        1           0   \n",
       "2        1.373716      ...             0        0        1           0   \n",
       "3        1.377506      ...             0        1        0           0   \n",
       "4        1.408545      ...             1        0        0           0   \n",
       "\n",
       "   clarity_SI1  clarity_SI2  clarity_VS1  clarity_VS2  clarity_VVS1  \\\n",
       "0            1            0            0            0             0   \n",
       "1            0            1            0            0             0   \n",
       "2            0            0            0            0             0   \n",
       "3            0            0            0            0             1   \n",
       "4            1            0            0            0             0   \n",
       "\n",
       "   clarity_VVS2  \n",
       "0             0  \n",
       "1             0  \n",
       "2             1  \n",
       "3             0  \n",
       "4             0  \n",
       "\n",
       "[5 rows x 28 columns]"
      ]
     },
     "execution_count": 19,
     "metadata": {},
     "output_type": "execute_result"
    }
   ],
   "source": [
    "dummy_df = pd.get_dummies(df, drop_first=True)\n",
    "dummy_df.head()"
   ]
  },
  {
   "cell_type": "code",
   "execution_count": 20,
   "metadata": {},
   "outputs": [
    {
     "data": {
      "image/png": "[encoded data removed]",
      "text/plain": [
       "<Figure size 792x648 with 2 Axes>"
      ]
     },
     "metadata": {},
     "output_type": "display_data"
    }
   ],
   "source": [
    "# Set the style of the visualization\n",
    "sns.set(style=\"white\")\n",
    "\n",
    "# Create a covariance matrix\n",
    "corr = dummy_df.corr()\n",
    "\n",
    "# Set up the matplotlib figure\n",
    "f, ax = plt.subplots(figsize=(11,9))\n",
    "\n",
    "# Generate a custom diverging colormap\n",
    "cmap = sns.diverging_palette(220, 10, as_cmap=True)\n",
    "\n",
    "# Draw the heatmap with the mask and correct aspect ratio\n",
    "sns.heatmap(corr, cmap=cmap, center=0,\n",
    "            square=True, linewidths=.5, cbar_kws={\"shrink\": .5}, annot=False);"
   ]
  },
  {
   "cell_type": "markdown",
   "metadata": {},
   "source": [
    "Appears that collinearity with the dummy variables isn't an issue.\n",
    "<br>\n",
    "\n",
    "Since 'x', 'y', and 'z' have high collinearity to the engineered features, and these engineered features have a stronger relation with 'price', we will drop them. I will also drop the features used for log transformations."
   ]
  },
  {
   "cell_type": "code",
   "execution_count": 21,
   "metadata": {},
   "outputs": [
    {
     "data": {
      "text/html": [
       "<div>\n",
       "<style scoped>\n",
       "    .dataframe tbody tr th:only-of-type {\n",
       "        vertical-align: middle;\n",
       "    }\n",
       "\n",
       "    .dataframe tbody tr th {\n",
       "        vertical-align: top;\n",
       "    }\n",
       "\n",
       "    .dataframe thead th {\n",
       "        text-align: right;\n",
       "    }\n",
       "</style>\n",
       "<table border=\"1\" class=\"dataframe\">\n",
       "  <thead>\n",
       "    <tr style=\"text-align: right;\">\n",
       "      <th></th>\n",
       "      <th>depth</th>\n",
       "      <th>table</th>\n",
       "      <th>log_price</th>\n",
       "      <th>log_g_diameter</th>\n",
       "      <th>log_carat</th>\n",
       "      <th>cut_Good</th>\n",
       "      <th>cut_Ideal</th>\n",
       "      <th>cut_Premium</th>\n",
       "      <th>cut_Very Good</th>\n",
       "      <th>color_E</th>\n",
       "      <th>...</th>\n",
       "      <th>color_H</th>\n",
       "      <th>color_I</th>\n",
       "      <th>color_J</th>\n",
       "      <th>clarity_IF</th>\n",
       "      <th>clarity_SI1</th>\n",
       "      <th>clarity_SI2</th>\n",
       "      <th>clarity_VS1</th>\n",
       "      <th>clarity_VS2</th>\n",
       "      <th>clarity_VVS1</th>\n",
       "      <th>clarity_VVS2</th>\n",
       "    </tr>\n",
       "  </thead>\n",
       "  <tbody>\n",
       "    <tr>\n",
       "      <th>0</th>\n",
       "      <td>59.8</td>\n",
       "      <td>61.0</td>\n",
       "      <td>5.786897</td>\n",
       "      <td>1.351962</td>\n",
       "      <td>-1.560648</td>\n",
       "      <td>0</td>\n",
       "      <td>0</td>\n",
       "      <td>1</td>\n",
       "      <td>0</td>\n",
       "      <td>1</td>\n",
       "      <td>...</td>\n",
       "      <td>0</td>\n",
       "      <td>0</td>\n",
       "      <td>0</td>\n",
       "      <td>0</td>\n",
       "      <td>1</td>\n",
       "      <td>0</td>\n",
       "      <td>0</td>\n",
       "      <td>0</td>\n",
       "      <td>0</td>\n",
       "      <td>0</td>\n",
       "    </tr>\n",
       "    <tr>\n",
       "      <th>1</th>\n",
       "      <td>63.3</td>\n",
       "      <td>58.0</td>\n",
       "      <td>5.814131</td>\n",
       "      <td>1.469026</td>\n",
       "      <td>-1.171183</td>\n",
       "      <td>1</td>\n",
       "      <td>0</td>\n",
       "      <td>0</td>\n",
       "      <td>0</td>\n",
       "      <td>0</td>\n",
       "      <td>...</td>\n",
       "      <td>0</td>\n",
       "      <td>0</td>\n",
       "      <td>1</td>\n",
       "      <td>0</td>\n",
       "      <td>0</td>\n",
       "      <td>1</td>\n",
       "      <td>0</td>\n",
       "      <td>0</td>\n",
       "      <td>0</td>\n",
       "      <td>0</td>\n",
       "    </tr>\n",
       "    <tr>\n",
       "      <th>2</th>\n",
       "      <td>62.8</td>\n",
       "      <td>57.0</td>\n",
       "      <td>5.817111</td>\n",
       "      <td>1.373716</td>\n",
       "      <td>-1.469676</td>\n",
       "      <td>0</td>\n",
       "      <td>0</td>\n",
       "      <td>0</td>\n",
       "      <td>1</td>\n",
       "      <td>0</td>\n",
       "      <td>...</td>\n",
       "      <td>0</td>\n",
       "      <td>0</td>\n",
       "      <td>1</td>\n",
       "      <td>0</td>\n",
       "      <td>0</td>\n",
       "      <td>0</td>\n",
       "      <td>0</td>\n",
       "      <td>0</td>\n",
       "      <td>0</td>\n",
       "      <td>1</td>\n",
       "    </tr>\n",
       "    <tr>\n",
       "      <th>3</th>\n",
       "      <td>62.3</td>\n",
       "      <td>57.0</td>\n",
       "      <td>5.817111</td>\n",
       "      <td>1.377506</td>\n",
       "      <td>-1.469676</td>\n",
       "      <td>0</td>\n",
       "      <td>0</td>\n",
       "      <td>0</td>\n",
       "      <td>1</td>\n",
       "      <td>0</td>\n",
       "      <td>...</td>\n",
       "      <td>0</td>\n",
       "      <td>1</td>\n",
       "      <td>0</td>\n",
       "      <td>0</td>\n",
       "      <td>0</td>\n",
       "      <td>0</td>\n",
       "      <td>0</td>\n",
       "      <td>0</td>\n",
       "      <td>1</td>\n",
       "      <td>0</td>\n",
       "    </tr>\n",
       "    <tr>\n",
       "      <th>4</th>\n",
       "      <td>61.9</td>\n",
       "      <td>55.0</td>\n",
       "      <td>5.820083</td>\n",
       "      <td>1.408545</td>\n",
       "      <td>-1.386294</td>\n",
       "      <td>0</td>\n",
       "      <td>0</td>\n",
       "      <td>0</td>\n",
       "      <td>1</td>\n",
       "      <td>0</td>\n",
       "      <td>...</td>\n",
       "      <td>1</td>\n",
       "      <td>0</td>\n",
       "      <td>0</td>\n",
       "      <td>0</td>\n",
       "      <td>1</td>\n",
       "      <td>0</td>\n",
       "      <td>0</td>\n",
       "      <td>0</td>\n",
       "      <td>0</td>\n",
       "      <td>0</td>\n",
       "    </tr>\n",
       "  </tbody>\n",
       "</table>\n",
       "<p>5 rows × 22 columns</p>\n",
       "</div>"
      ],
      "text/plain": [
       "   depth  table  log_price  log_g_diameter  log_carat  cut_Good  cut_Ideal  \\\n",
       "0   59.8   61.0   5.786897        1.351962  -1.560648         0          0   \n",
       "1   63.3   58.0   5.814131        1.469026  -1.171183         1          0   \n",
       "2   62.8   57.0   5.817111        1.373716  -1.469676         0          0   \n",
       "3   62.3   57.0   5.817111        1.377506  -1.469676         0          0   \n",
       "4   61.9   55.0   5.820083        1.408545  -1.386294         0          0   \n",
       "\n",
       "   cut_Premium  cut_Very Good  color_E      ...       color_H  color_I  \\\n",
       "0            1              0        1      ...             0        0   \n",
       "1            0              0        0      ...             0        0   \n",
       "2            0              1        0      ...             0        0   \n",
       "3            0              1        0      ...             0        1   \n",
       "4            0              1        0      ...             1        0   \n",
       "\n",
       "   color_J  clarity_IF  clarity_SI1  clarity_SI2  clarity_VS1  clarity_VS2  \\\n",
       "0        0           0            1            0            0            0   \n",
       "1        1           0            0            1            0            0   \n",
       "2        1           0            0            0            0            0   \n",
       "3        0           0            0            0            0            0   \n",
       "4        0           0            1            0            0            0   \n",
       "\n",
       "   clarity_VVS1  clarity_VVS2  \n",
       "0             0             0  \n",
       "1             0             0  \n",
       "2             0             1  \n",
       "3             1             0  \n",
       "4             0             0  \n",
       "\n",
       "[5 rows x 22 columns]"
      ]
     },
     "execution_count": 21,
     "metadata": {},
     "output_type": "execute_result"
    }
   ],
   "source": [
    "# Create final dataFrame for modeling\n",
    "final_df = dummy_df.drop(['x', 'y', 'z', 'price', 'g_diameter', 'carat'], axis=1)\n",
    "final_df.head()"
   ]
  },
  {
   "cell_type": "markdown",
   "metadata": {},
   "source": [
    "## Split and Scale Data for Modeling"
   ]
  },
  {
   "cell_type": "code",
   "execution_count": 22,
   "metadata": {},
   "outputs": [],
   "source": [
    "# Set target variable\n",
    "X = final_df.drop('log_price', axis=1)\n",
    "y = final_df.log_price"
   ]
  },
  {
   "cell_type": "code",
   "execution_count": 23,
   "metadata": {},
   "outputs": [],
   "source": [
    "# split the data into train and test\n",
    "X_train, X_test, y_train, y_test = train_test_split(X, y, test_size=0.2, random_state=42)"
   ]
  },
  {
   "cell_type": "code",
   "execution_count": 24,
   "metadata": {},
   "outputs": [
    {
     "data": {
      "text/html": [
       "<div>\n",
       "<style scoped>\n",
       "    .dataframe tbody tr th:only-of-type {\n",
       "        vertical-align: middle;\n",
       "    }\n",
       "\n",
       "    .dataframe tbody tr th {\n",
       "        vertical-align: top;\n",
       "    }\n",
       "\n",
       "    .dataframe thead th {\n",
       "        text-align: right;\n",
       "    }\n",
       "</style>\n",
       "<table border=\"1\" class=\"dataframe\">\n",
       "  <thead>\n",
       "    <tr style=\"text-align: right;\">\n",
       "      <th></th>\n",
       "      <th>depth</th>\n",
       "      <th>table</th>\n",
       "      <th>log_g_diameter</th>\n",
       "      <th>log_carat</th>\n",
       "      <th>cut_Good</th>\n",
       "      <th>cut_Ideal</th>\n",
       "      <th>cut_Premium</th>\n",
       "      <th>cut_Very Good</th>\n",
       "      <th>color_E</th>\n",
       "      <th>color_F</th>\n",
       "      <th>...</th>\n",
       "      <th>color_H</th>\n",
       "      <th>color_I</th>\n",
       "      <th>color_J</th>\n",
       "      <th>clarity_IF</th>\n",
       "      <th>clarity_SI1</th>\n",
       "      <th>clarity_SI2</th>\n",
       "      <th>clarity_VS1</th>\n",
       "      <th>clarity_VS2</th>\n",
       "      <th>clarity_VVS1</th>\n",
       "      <th>clarity_VVS2</th>\n",
       "    </tr>\n",
       "  </thead>\n",
       "  <tbody>\n",
       "    <tr>\n",
       "      <th>0</th>\n",
       "      <td>0.743898</td>\n",
       "      <td>0.667601</td>\n",
       "      <td>0.017690</td>\n",
       "      <td>-0.013584</td>\n",
       "      <td>0.0</td>\n",
       "      <td>0.011921</td>\n",
       "      <td>0.0</td>\n",
       "      <td>0.000000</td>\n",
       "      <td>0.011921</td>\n",
       "      <td>0.000000</td>\n",
       "      <td>...</td>\n",
       "      <td>0.0</td>\n",
       "      <td>0.0</td>\n",
       "      <td>0.0</td>\n",
       "      <td>0.0</td>\n",
       "      <td>0.000000</td>\n",
       "      <td>0.0</td>\n",
       "      <td>0.0</td>\n",
       "      <td>0.000000</td>\n",
       "      <td>0.000000</td>\n",
       "      <td>0.011921</td>\n",
       "    </tr>\n",
       "    <tr>\n",
       "      <th>1</th>\n",
       "      <td>0.732698</td>\n",
       "      <td>0.679943</td>\n",
       "      <td>0.016104</td>\n",
       "      <td>-0.017229</td>\n",
       "      <td>0.0</td>\n",
       "      <td>0.000000</td>\n",
       "      <td>0.0</td>\n",
       "      <td>0.011723</td>\n",
       "      <td>0.000000</td>\n",
       "      <td>0.000000</td>\n",
       "      <td>...</td>\n",
       "      <td>0.0</td>\n",
       "      <td>0.0</td>\n",
       "      <td>0.0</td>\n",
       "      <td>0.0</td>\n",
       "      <td>0.000000</td>\n",
       "      <td>0.0</td>\n",
       "      <td>0.0</td>\n",
       "      <td>0.000000</td>\n",
       "      <td>0.011723</td>\n",
       "      <td>0.000000</td>\n",
       "    </tr>\n",
       "    <tr>\n",
       "      <th>2</th>\n",
       "      <td>0.736372</td>\n",
       "      <td>0.675897</td>\n",
       "      <td>0.017433</td>\n",
       "      <td>-0.013888</td>\n",
       "      <td>0.0</td>\n",
       "      <td>0.011858</td>\n",
       "      <td>0.0</td>\n",
       "      <td>0.000000</td>\n",
       "      <td>0.000000</td>\n",
       "      <td>0.011858</td>\n",
       "      <td>...</td>\n",
       "      <td>0.0</td>\n",
       "      <td>0.0</td>\n",
       "      <td>0.0</td>\n",
       "      <td>0.0</td>\n",
       "      <td>0.000000</td>\n",
       "      <td>0.0</td>\n",
       "      <td>0.0</td>\n",
       "      <td>0.011858</td>\n",
       "      <td>0.000000</td>\n",
       "      <td>0.000000</td>\n",
       "    </tr>\n",
       "    <tr>\n",
       "      <th>3</th>\n",
       "      <td>0.745579</td>\n",
       "      <td>0.665696</td>\n",
       "      <td>0.017891</td>\n",
       "      <td>-0.014175</td>\n",
       "      <td>0.0</td>\n",
       "      <td>0.012104</td>\n",
       "      <td>0.0</td>\n",
       "      <td>0.000000</td>\n",
       "      <td>0.000000</td>\n",
       "      <td>0.012104</td>\n",
       "      <td>...</td>\n",
       "      <td>0.0</td>\n",
       "      <td>0.0</td>\n",
       "      <td>0.0</td>\n",
       "      <td>0.0</td>\n",
       "      <td>0.000000</td>\n",
       "      <td>0.0</td>\n",
       "      <td>0.0</td>\n",
       "      <td>0.000000</td>\n",
       "      <td>0.012104</td>\n",
       "      <td>0.000000</td>\n",
       "    </tr>\n",
       "    <tr>\n",
       "      <th>4</th>\n",
       "      <td>0.728329</td>\n",
       "      <td>0.684653</td>\n",
       "      <td>0.022497</td>\n",
       "      <td>0.001443</td>\n",
       "      <td>0.0</td>\n",
       "      <td>0.000000</td>\n",
       "      <td>0.0</td>\n",
       "      <td>0.011804</td>\n",
       "      <td>0.000000</td>\n",
       "      <td>0.000000</td>\n",
       "      <td>...</td>\n",
       "      <td>0.0</td>\n",
       "      <td>0.0</td>\n",
       "      <td>0.0</td>\n",
       "      <td>0.0</td>\n",
       "      <td>0.011804</td>\n",
       "      <td>0.0</td>\n",
       "      <td>0.0</td>\n",
       "      <td>0.000000</td>\n",
       "      <td>0.000000</td>\n",
       "      <td>0.000000</td>\n",
       "    </tr>\n",
       "  </tbody>\n",
       "</table>\n",
       "<p>5 rows × 21 columns</p>\n",
       "</div>"
      ],
      "text/plain": [
       "      depth     table  log_g_diameter  log_carat  cut_Good  cut_Ideal  \\\n",
       "0  0.743898  0.667601        0.017690  -0.013584       0.0   0.011921   \n",
       "1  0.732698  0.679943        0.016104  -0.017229       0.0   0.000000   \n",
       "2  0.736372  0.675897        0.017433  -0.013888       0.0   0.011858   \n",
       "3  0.745579  0.665696        0.017891  -0.014175       0.0   0.012104   \n",
       "4  0.728329  0.684653        0.022497   0.001443       0.0   0.000000   \n",
       "\n",
       "   cut_Premium  cut_Very Good   color_E   color_F      ...       color_H  \\\n",
       "0          0.0       0.000000  0.011921  0.000000      ...           0.0   \n",
       "1          0.0       0.011723  0.000000  0.000000      ...           0.0   \n",
       "2          0.0       0.000000  0.000000  0.011858      ...           0.0   \n",
       "3          0.0       0.000000  0.000000  0.012104      ...           0.0   \n",
       "4          0.0       0.011804  0.000000  0.000000      ...           0.0   \n",
       "\n",
       "   color_I  color_J  clarity_IF  clarity_SI1  clarity_SI2  clarity_VS1  \\\n",
       "0      0.0      0.0         0.0     0.000000          0.0          0.0   \n",
       "1      0.0      0.0         0.0     0.000000          0.0          0.0   \n",
       "2      0.0      0.0         0.0     0.000000          0.0          0.0   \n",
       "3      0.0      0.0         0.0     0.000000          0.0          0.0   \n",
       "4      0.0      0.0         0.0     0.011804          0.0          0.0   \n",
       "\n",
       "   clarity_VS2  clarity_VVS1  clarity_VVS2  \n",
       "0     0.000000      0.000000      0.011921  \n",
       "1     0.000000      0.011723      0.000000  \n",
       "2     0.011858      0.000000      0.000000  \n",
       "3     0.000000      0.012104      0.000000  \n",
       "4     0.000000      0.000000      0.000000  \n",
       "\n",
       "[5 rows x 21 columns]"
      ]
     },
     "execution_count": 24,
     "metadata": {},
     "output_type": "execute_result"
    }
   ],
   "source": [
    "# Normalize the data but only fit on the training set to avoid leakage into the test set\n",
    "# I find that Normalizer is usually better for regression problems when StandardScaler is better for classification\n",
    "normalize = Normalizer()\n",
    "X_train = pd.DataFrame(normalize.fit_transform(X_train), columns=list(X_train.columns))\n",
    "X_test = pd.DataFrame(normalize.transform(X_test), columns=list(X_test.columns))\n",
    "X_train.head()"
   ]
  },
  {
   "cell_type": "markdown",
   "metadata": {},
   "source": [
    "## Modeling"
   ]
  },
  {
   "cell_type": "markdown",
   "metadata": {},
   "source": [
    "Now that the data is ready for modeling, I will use a simple Linear Regression model since it is a pretty simple yet effective model and also is easy to interpret. "
   ]
  },
  {
   "cell_type": "markdown",
   "metadata": {},
   "source": [
    "### Model 1 (Linear Regression ScikitLearn)"
   ]
  },
  {
   "cell_type": "code",
   "execution_count": 26,
   "metadata": {},
   "outputs": [
    {
     "data": {
      "text/plain": [
       "LinearRegression(copy_X=True, fit_intercept=True, n_jobs=None,\n",
       "         normalize=False)"
      ]
     },
     "execution_count": 26,
     "metadata": {},
     "output_type": "execute_result"
    }
   ],
   "source": [
    "linreg = linear_model.LinearRegression()\n",
    "linreg.fit(X_train, y_train)"
   ]
  },
  {
   "cell_type": "code",
   "execution_count": 27,
   "metadata": {},
   "outputs": [
    {
     "name": "stdout",
     "output_type": "stream",
     "text": [
      "Training R Squared = 0.9805670964531191\n",
      "Test R Squared = 0.9817329533258207\n",
      "Training MSE = 0.0200964936590925\n",
      "Test MSE = 0.018761930022165037\n",
      "Training average cv score = 0.9804893187943673\n",
      "Test average cv score = 0.9816594384332091\n"
     ]
    },
    {
     "data": {
      "image/png": "[encoded data removed]",
      "text/plain": [
       "<Figure size 432x288 with 1 Axes>"
      ]
     },
     "metadata": {},
     "output_type": "display_data"
    }
   ],
   "source": [
    "# Get train/test predictions\n",
    "train_linreg_y_preds = linreg.predict(X_train)\n",
    "train_r2 = linreg.score(X_train, y_train)\n",
    "\n",
    "# Get train/test R Squared values\n",
    "test_linreg_y_preds = linreg.predict(X_test)\n",
    "test_r2 = linreg.score(X_test, y_test)\n",
    "print('Training R Squared =', train_r2)\n",
    "print('Test R Squared =', test_r2)\n",
    "\n",
    "# Get train/test MSE values\n",
    "train_mse = mean_squared_error(y_train, train_linreg_y_preds)\n",
    "test_mse = mean_squared_error(y_test, test_linreg_y_preds)\n",
    "print('Training MSE =', train_mse)\n",
    "print('Test MSE =', test_mse)\n",
    "\n",
    "# Get train/test cross_val scores\n",
    "train_cv_results_5 = cross_val_score(linreg, X_train, y_train, cv = 5, scoring='r2')\n",
    "test_cv_results_5 = cross_val_score(linreg, X_test, y_test, cv=5, scoring='r2')\n",
    "print('Training average cv score =', np.mean(train_cv_results_5))\n",
    "print('Test average cv score =', np.mean(test_cv_results_5))\n",
    "\n",
    "# Plot Test results\n",
    "plt.scatter(y_test, test_linreg_y_preds)\n",
    "plt.xlabel('Actual')\n",
    "plt.ylabel('Predictions')\n",
    "plt.title('Test Results')\n",
    "plt.plot(plt.xlim(), plt.ylim(), color='black', linestyle='--');"
   ]
  },
  {
   "cell_type": "markdown",
   "metadata": {},
   "source": [
    "An R Squared of about 98% is very good and means that about 98% of the variance in 'log_price' can be explained by the regression model. These scores are very acceptable and there doesn't seem to be overfitting due to the test scores and cross val scores being very similar to the training scores.\n",
    "<br>\n",
    "\n",
    "Now I will just take a look at the Linear Regression model using StatsModels to see if there are any features that can be eliminated due to their p-value."
   ]
  },
  {
   "cell_type": "markdown",
   "metadata": {},
   "source": [
    "### Model 2 (Linear Regression StatsModels)"
   ]
  },
  {
   "cell_type": "code",
   "execution_count": 28,
   "metadata": {},
   "outputs": [],
   "source": [
    "# Set target variable\n",
    "X = final_df.drop('log_price', axis=1)\n",
    "y = final_df.log_price"
   ]
  },
  {
   "cell_type": "code",
   "execution_count": 29,
   "metadata": {},
   "outputs": [],
   "source": [
    "# split the data into train and test\n",
    "X_train, X_test, y_train, y_test = train_test_split(X, y, test_size=0.2, random_state=42)"
   ]
  },
  {
   "cell_type": "code",
   "execution_count": 30,
   "metadata": {},
   "outputs": [
    {
     "data": {
      "text/html": [
       "<div>\n",
       "<style scoped>\n",
       "    .dataframe tbody tr th:only-of-type {\n",
       "        vertical-align: middle;\n",
       "    }\n",
       "\n",
       "    .dataframe tbody tr th {\n",
       "        vertical-align: top;\n",
       "    }\n",
       "\n",
       "    .dataframe thead th {\n",
       "        text-align: right;\n",
       "    }\n",
       "</style>\n",
       "<table border=\"1\" class=\"dataframe\">\n",
       "  <thead>\n",
       "    <tr style=\"text-align: right;\">\n",
       "      <th></th>\n",
       "      <th>depth</th>\n",
       "      <th>table</th>\n",
       "      <th>log_g_diameter</th>\n",
       "      <th>log_carat</th>\n",
       "      <th>cut_Good</th>\n",
       "      <th>cut_Ideal</th>\n",
       "      <th>cut_Premium</th>\n",
       "      <th>cut_Very Good</th>\n",
       "      <th>color_E</th>\n",
       "      <th>color_F</th>\n",
       "      <th>...</th>\n",
       "      <th>color_H</th>\n",
       "      <th>color_I</th>\n",
       "      <th>color_J</th>\n",
       "      <th>clarity_IF</th>\n",
       "      <th>clarity_SI1</th>\n",
       "      <th>clarity_SI2</th>\n",
       "      <th>clarity_VS1</th>\n",
       "      <th>clarity_VS2</th>\n",
       "      <th>clarity_VVS1</th>\n",
       "      <th>clarity_VVS2</th>\n",
       "    </tr>\n",
       "  </thead>\n",
       "  <tbody>\n",
       "    <tr>\n",
       "      <th>0</th>\n",
       "      <td>0.743898</td>\n",
       "      <td>0.667601</td>\n",
       "      <td>0.017690</td>\n",
       "      <td>-0.013584</td>\n",
       "      <td>0.0</td>\n",
       "      <td>0.011921</td>\n",
       "      <td>0.0</td>\n",
       "      <td>0.000000</td>\n",
       "      <td>0.011921</td>\n",
       "      <td>0.000000</td>\n",
       "      <td>...</td>\n",
       "      <td>0.0</td>\n",
       "      <td>0.0</td>\n",
       "      <td>0.0</td>\n",
       "      <td>0.0</td>\n",
       "      <td>0.000000</td>\n",
       "      <td>0.0</td>\n",
       "      <td>0.0</td>\n",
       "      <td>0.000000</td>\n",
       "      <td>0.000000</td>\n",
       "      <td>0.011921</td>\n",
       "    </tr>\n",
       "    <tr>\n",
       "      <th>1</th>\n",
       "      <td>0.732698</td>\n",
       "      <td>0.679943</td>\n",
       "      <td>0.016104</td>\n",
       "      <td>-0.017229</td>\n",
       "      <td>0.0</td>\n",
       "      <td>0.000000</td>\n",
       "      <td>0.0</td>\n",
       "      <td>0.011723</td>\n",
       "      <td>0.000000</td>\n",
       "      <td>0.000000</td>\n",
       "      <td>...</td>\n",
       "      <td>0.0</td>\n",
       "      <td>0.0</td>\n",
       "      <td>0.0</td>\n",
       "      <td>0.0</td>\n",
       "      <td>0.000000</td>\n",
       "      <td>0.0</td>\n",
       "      <td>0.0</td>\n",
       "      <td>0.000000</td>\n",
       "      <td>0.011723</td>\n",
       "      <td>0.000000</td>\n",
       "    </tr>\n",
       "    <tr>\n",
       "      <th>2</th>\n",
       "      <td>0.736372</td>\n",
       "      <td>0.675897</td>\n",
       "      <td>0.017433</td>\n",
       "      <td>-0.013888</td>\n",
       "      <td>0.0</td>\n",
       "      <td>0.011858</td>\n",
       "      <td>0.0</td>\n",
       "      <td>0.000000</td>\n",
       "      <td>0.000000</td>\n",
       "      <td>0.011858</td>\n",
       "      <td>...</td>\n",
       "      <td>0.0</td>\n",
       "      <td>0.0</td>\n",
       "      <td>0.0</td>\n",
       "      <td>0.0</td>\n",
       "      <td>0.000000</td>\n",
       "      <td>0.0</td>\n",
       "      <td>0.0</td>\n",
       "      <td>0.011858</td>\n",
       "      <td>0.000000</td>\n",
       "      <td>0.000000</td>\n",
       "    </tr>\n",
       "    <tr>\n",
       "      <th>3</th>\n",
       "      <td>0.745579</td>\n",
       "      <td>0.665696</td>\n",
       "      <td>0.017891</td>\n",
       "      <td>-0.014175</td>\n",
       "      <td>0.0</td>\n",
       "      <td>0.012104</td>\n",
       "      <td>0.0</td>\n",
       "      <td>0.000000</td>\n",
       "      <td>0.000000</td>\n",
       "      <td>0.012104</td>\n",
       "      <td>...</td>\n",
       "      <td>0.0</td>\n",
       "      <td>0.0</td>\n",
       "      <td>0.0</td>\n",
       "      <td>0.0</td>\n",
       "      <td>0.000000</td>\n",
       "      <td>0.0</td>\n",
       "      <td>0.0</td>\n",
       "      <td>0.000000</td>\n",
       "      <td>0.012104</td>\n",
       "      <td>0.000000</td>\n",
       "    </tr>\n",
       "    <tr>\n",
       "      <th>4</th>\n",
       "      <td>0.728329</td>\n",
       "      <td>0.684653</td>\n",
       "      <td>0.022497</td>\n",
       "      <td>0.001443</td>\n",
       "      <td>0.0</td>\n",
       "      <td>0.000000</td>\n",
       "      <td>0.0</td>\n",
       "      <td>0.011804</td>\n",
       "      <td>0.000000</td>\n",
       "      <td>0.000000</td>\n",
       "      <td>...</td>\n",
       "      <td>0.0</td>\n",
       "      <td>0.0</td>\n",
       "      <td>0.0</td>\n",
       "      <td>0.0</td>\n",
       "      <td>0.011804</td>\n",
       "      <td>0.0</td>\n",
       "      <td>0.0</td>\n",
       "      <td>0.000000</td>\n",
       "      <td>0.000000</td>\n",
       "      <td>0.000000</td>\n",
       "    </tr>\n",
       "  </tbody>\n",
       "</table>\n",
       "<p>5 rows × 21 columns</p>\n",
       "</div>"
      ],
      "text/plain": [
       "      depth     table  log_g_diameter  log_carat  cut_Good  cut_Ideal  \\\n",
       "0  0.743898  0.667601        0.017690  -0.013584       0.0   0.011921   \n",
       "1  0.732698  0.679943        0.016104  -0.017229       0.0   0.000000   \n",
       "2  0.736372  0.675897        0.017433  -0.013888       0.0   0.011858   \n",
       "3  0.745579  0.665696        0.017891  -0.014175       0.0   0.012104   \n",
       "4  0.728329  0.684653        0.022497   0.001443       0.0   0.000000   \n",
       "\n",
       "   cut_Premium  cut_Very Good   color_E   color_F      ...       color_H  \\\n",
       "0          0.0       0.000000  0.011921  0.000000      ...           0.0   \n",
       "1          0.0       0.011723  0.000000  0.000000      ...           0.0   \n",
       "2          0.0       0.000000  0.000000  0.011858      ...           0.0   \n",
       "3          0.0       0.000000  0.000000  0.012104      ...           0.0   \n",
       "4          0.0       0.011804  0.000000  0.000000      ...           0.0   \n",
       "\n",
       "   color_I  color_J  clarity_IF  clarity_SI1  clarity_SI2  clarity_VS1  \\\n",
       "0      0.0      0.0         0.0     0.000000          0.0          0.0   \n",
       "1      0.0      0.0         0.0     0.000000          0.0          0.0   \n",
       "2      0.0      0.0         0.0     0.000000          0.0          0.0   \n",
       "3      0.0      0.0         0.0     0.000000          0.0          0.0   \n",
       "4      0.0      0.0         0.0     0.011804          0.0          0.0   \n",
       "\n",
       "   clarity_VS2  clarity_VVS1  clarity_VVS2  \n",
       "0     0.000000      0.000000      0.011921  \n",
       "1     0.000000      0.011723      0.000000  \n",
       "2     0.011858      0.000000      0.000000  \n",
       "3     0.000000      0.012104      0.000000  \n",
       "4     0.000000      0.000000      0.000000  \n",
       "\n",
       "[5 rows x 21 columns]"
      ]
     },
     "execution_count": 30,
     "metadata": {},
     "output_type": "execute_result"
    }
   ],
   "source": [
    "# Normalize the data but only fit on the training set to avoid leakage into the test set\n",
    "normalize = Normalizer()\n",
    "X_train = pd.DataFrame(normalize.fit_transform(X_train), columns=list(X_train.columns))\n",
    "X_test = pd.DataFrame(normalize.transform(X_test), columns=list(X_test.columns))\n",
    "y_train = list(y_train) # needed to get feature names to show up in the summary\n",
    "X_train.head()"
   ]
  },
  {
   "cell_type": "code",
   "execution_count": 31,
   "metadata": {},
   "outputs": [
    {
     "name": "stdout",
     "output_type": "stream",
     "text": [
      "                            OLS Regression Results                            \n",
      "==============================================================================\n",
      "Dep. Variable:                      y   R-squared:                       0.981\n",
      "Model:                            OLS   Adj. R-squared:                  0.981\n",
      "Method:                 Least Squares   F-statistic:                 7.681e+04\n",
      "Date:                Mon, 19 Aug 2019   Prob (F-statistic):               0.00\n",
      "Time:                        23:39:47   Log-Likelihood:                 17103.\n",
      "No. Observations:               31988   AIC:                        -3.416e+04\n",
      "Df Residuals:                   31966   BIC:                        -3.398e+04\n",
      "Df Model:                          21                                         \n",
      "Covariance Type:            nonrobust                                         \n",
      "==================================================================================\n",
      "                     coef    std err          t      P>|t|      [0.025      0.975]\n",
      "----------------------------------------------------------------------------------\n",
      "const             -2.5606      1.570     -1.631      0.103      -5.638       0.516\n",
      "depth              8.3346      1.128      7.388      0.000       6.124      10.546\n",
      "table              7.6755      1.077      7.128      0.000       5.565       9.786\n",
      "log_g_diameter   -36.8078      2.369    -15.539      0.000     -41.450     -32.165\n",
      "log_carat        171.8931      0.795    216.229      0.000     170.335     173.451\n",
      "cut_Good           4.7027      0.498      9.442      0.000       3.727       5.679\n",
      "cut_Ideal         10.4273      0.513     20.315      0.000       9.421      11.433\n",
      "cut_Premium        8.4906      0.509     16.673      0.000       7.493       9.489\n",
      "cut_Very Good      6.8086      0.498     13.659      0.000       5.832       7.786\n",
      "color_E           -4.8620      0.247    -19.688      0.000      -5.346      -4.378\n",
      "color_F           -7.9402      0.250    -31.822      0.000      -8.429      -7.451\n",
      "color_G          -13.7040      0.244    -56.202      0.000     -14.182     -13.226\n",
      "color_H          -21.1479      0.260    -81.488      0.000     -21.657     -20.639\n",
      "color_I          -31.1750      0.289   -107.696      0.000     -31.742     -30.608\n",
      "color_J          -43.4332      0.360   -120.738      0.000     -44.138     -42.728\n",
      "clarity_IF        92.9226      0.700    132.794      0.000      91.551      94.294\n",
      "clarity_SI1       49.3744      0.602     82.002      0.000      48.194      50.555\n",
      "clarity_SI2       35.6483      0.606     58.816      0.000      34.460      36.836\n",
      "clarity_VS1       67.5530      0.615    109.862      0.000      66.348      68.758\n",
      "clarity_VS2       62.0321      0.605    102.474      0.000      60.846      63.219\n",
      "clarity_VVS1      84.9480      0.650    130.672      0.000      83.674      86.222\n",
      "clarity_VVS2      78.6104      0.633    124.129      0.000      77.369      79.852\n",
      "==============================================================================\n",
      "Omnibus:                    17920.384   Durbin-Watson:                   1.990\n",
      "Prob(Omnibus):                  0.000   Jarque-Bera (JB):          9513370.954\n",
      "Skew:                          -1.364   Prob(JB):                         0.00\n",
      "Kurtosis:                      87.441   Cond. No.                     4.89e+03\n",
      "==============================================================================\n",
      "\n",
      "Warnings:\n",
      "[1] Standard Errors assume that the covariance matrix of the errors is correctly specified.\n",
      "[2] The condition number is large, 4.89e+03. This might indicate that there are\n",
      "strong multicollinearity or other numerical problems.\n"
     ]
    }
   ],
   "source": [
    "X_train = sm.add_constant(X_train)\n",
    "\n",
    "model = sm.OLS(y_train, X_train).fit()\n",
    "train_predictions = model.predict(X_train)\n",
    "print(model.summary())"
   ]
  },
  {
   "cell_type": "markdown",
   "metadata": {},
   "source": [
    "The R Squared for this model is very similar to the Scikit-Learn model and it doesn't look like there are any obvious features that could be removed.  For simplicity, I will now make a model using the two features that were engineered since they seemed to have the strongest relationship with the target variable."
   ]
  },
  {
   "cell_type": "markdown",
   "metadata": {},
   "source": [
    "### Model 3 (Linear Regression Scikit-Learn after feature reduction)"
   ]
  },
  {
   "cell_type": "code",
   "execution_count": 32,
   "metadata": {},
   "outputs": [],
   "source": [
    "# Set target variable\n",
    "X = final_df[['log_g_diameter', 'log_carat']]\n",
    "y = final_df.log_price"
   ]
  },
  {
   "cell_type": "code",
   "execution_count": 33,
   "metadata": {},
   "outputs": [],
   "source": [
    "# split the data into train and test\n",
    "X_train, X_test, y_train, y_test = train_test_split(X, y, test_size=0.2, random_state=42)"
   ]
  },
  {
   "cell_type": "code",
   "execution_count": 34,
   "metadata": {},
   "outputs": [
    {
     "data": {
      "text/html": [
       "<div>\n",
       "<style scoped>\n",
       "    .dataframe tbody tr th:only-of-type {\n",
       "        vertical-align: middle;\n",
       "    }\n",
       "\n",
       "    .dataframe tbody tr th {\n",
       "        vertical-align: top;\n",
       "    }\n",
       "\n",
       "    .dataframe thead th {\n",
       "        text-align: right;\n",
       "    }\n",
       "</style>\n",
       "<table border=\"1\" class=\"dataframe\">\n",
       "  <thead>\n",
       "    <tr style=\"text-align: right;\">\n",
       "      <th></th>\n",
       "      <th>log_g_diameter</th>\n",
       "      <th>log_carat</th>\n",
       "    </tr>\n",
       "  </thead>\n",
       "  <tbody>\n",
       "    <tr>\n",
       "      <th>0</th>\n",
       "      <td>0.793142</td>\n",
       "      <td>-0.609036</td>\n",
       "    </tr>\n",
       "    <tr>\n",
       "      <th>1</th>\n",
       "      <td>0.682854</td>\n",
       "      <td>-0.730555</td>\n",
       "    </tr>\n",
       "    <tr>\n",
       "      <th>2</th>\n",
       "      <td>0.782154</td>\n",
       "      <td>-0.623085</td>\n",
       "    </tr>\n",
       "    <tr>\n",
       "      <th>3</th>\n",
       "      <td>0.783801</td>\n",
       "      <td>-0.621012</td>\n",
       "    </tr>\n",
       "    <tr>\n",
       "      <th>4</th>\n",
       "      <td>0.997950</td>\n",
       "      <td>0.063997</td>\n",
       "    </tr>\n",
       "  </tbody>\n",
       "</table>\n",
       "</div>"
      ],
      "text/plain": [
       "   log_g_diameter  log_carat\n",
       "0        0.793142  -0.609036\n",
       "1        0.682854  -0.730555\n",
       "2        0.782154  -0.623085\n",
       "3        0.783801  -0.621012\n",
       "4        0.997950   0.063997"
      ]
     },
     "execution_count": 34,
     "metadata": {},
     "output_type": "execute_result"
    }
   ],
   "source": [
    "# Normalize the data but only fit on the training set to avoid leakage into the test set\n",
    "normalize = Normalizer()\n",
    "X_train = pd.DataFrame(normalize.fit_transform(X_train), columns=list(X_train.columns))\n",
    "X_test = pd.DataFrame(normalize.transform(X_test), columns=list(X_test.columns))\n",
    "X_train.head()"
   ]
  },
  {
   "cell_type": "code",
   "execution_count": 35,
   "metadata": {},
   "outputs": [
    {
     "data": {
      "text/plain": [
       "LinearRegression(copy_X=True, fit_intercept=True, n_jobs=None,\n",
       "         normalize=False)"
      ]
     },
     "execution_count": 35,
     "metadata": {},
     "output_type": "execute_result"
    }
   ],
   "source": [
    "linreg2 = linear_model.LinearRegression()\n",
    "linreg2.fit(X_train, y_train)"
   ]
  },
  {
   "cell_type": "code",
   "execution_count": 36,
   "metadata": {},
   "outputs": [
    {
     "name": "stdout",
     "output_type": "stream",
     "text": [
      "Training R Squared = 0.9368309330731286\n",
      "Test R Squared = 0.9390186358815659\n",
      "Training MSE = 0.06532614901752146\n",
      "Test MSE = 0.06263344626274295\n",
      "Training average cv score = 0.9368019117387261\n",
      "Test average cv score = 0.939005301681291\n"
     ]
    },
    {
     "data": {
      "image/png": "[encoded data removed]",
      "text/plain": [
       "<Figure size 432x288 with 1 Axes>"
      ]
     },
     "metadata": {},
     "output_type": "display_data"
    }
   ],
   "source": [
    "# Get train/test predictions\n",
    "train_linreg_y_preds = linreg2.predict(X_train)\n",
    "train_r2 = linreg2.score(X_train, y_train)\n",
    "\n",
    "# Get train/test R Squared values\n",
    "test_linreg_y_preds = linreg2.predict(X_test)\n",
    "test_r2 = linreg2.score(X_test, y_test)\n",
    "print('Training R Squared =', train_r2)\n",
    "print('Test R Squared =', test_r2)\n",
    "\n",
    "# Get train/test MSE values\n",
    "train_mse = mean_squared_error(y_train, train_linreg_y_preds)\n",
    "test_mse = mean_squared_error(y_test, test_linreg_y_preds)\n",
    "print('Training MSE =', train_mse)\n",
    "print('Test MSE =', test_mse)\n",
    "\n",
    "# Get train/test cross_val scores\n",
    "train_cv_results_5 = cross_val_score(linreg2, X_train, y_train, cv = 5, scoring='r2')\n",
    "test_cv_results_5 = cross_val_score(linreg2, X_test, y_test, cv=5, scoring='r2')\n",
    "print('Training average cv score =', np.mean(train_cv_results_5))\n",
    "print('Test average cv score =', np.mean(test_cv_results_5))\n",
    "\n",
    "# Plot Test results\n",
    "plt.scatter(y_test, test_linreg_y_preds)\n",
    "plt.xlabel('Actual')\n",
    "plt.ylabel('Predictions')\n",
    "plt.title('Test Results')\n",
    "plt.plot(plt.xlim(), plt.ylim(), color='black', linestyle='--');"
   ]
  },
  {
   "cell_type": "code",
   "execution_count": 37,
   "metadata": {},
   "outputs": [
    {
     "name": "stdout",
     "output_type": "stream",
     "text": [
      "intercept = 8.666457467168637\n",
      "variable coefficients = [-0.13177152  3.29015089]\n"
     ]
    }
   ],
   "source": [
    "print('intercept =', linreg2.intercept_)\n",
    "print('variable coefficients =', linreg2.coef_)"
   ]
  },
  {
   "cell_type": "markdown",
   "metadata": {},
   "source": [
    "## Conclusion\n",
    "\n"
   ]
  },
  {
   "cell_type": "markdown",
   "metadata": {},
   "source": [
    "Although R Squared drops by about 4-5%, this model is a lot simpler to interpret since it only uses two features. For example, the coefficient for log_carat is about 3.29.  Since both this feature and the target variable were log transformed, this coefficient means that for every 1% increase in 'carat', leads to about a 3.29% increase in 'price'. "
   ]
  },
  {
   "cell_type": "markdown",
   "metadata": {},
   "source": [
    "## Future Work"
   ]
  },
  {
   "cell_type": "markdown",
   "metadata": {},
   "source": [
    "Overall I'm very satisfied with the findings and the end models. Given the amount of time meant to spend on this project there is definitely a lot more that could have been done such as:\n",
    "- Test different machine learning models\n",
    "- Do a more deliberate recursive feature elimination (RFE)\n",
    "- Explore the data more to further domain knowledge and look for trends\n",
    "- Compare models using different scaling or against the target variable without being log transformed"
   ]
  }
 ],
 "metadata": {
  "kernelspec": {
   "display_name": "Python 3",
   "language": "python",
   "name": "python3"
  },
  "language_info": {
   "codemirror_mode": {
    "name": "ipython",
    "version": 3
   },
   "file_extension": ".py",
   "mimetype": "text/x-python",
   "name": "python",
   "nbconvert_exporter": "python",
   "pygments_lexer": "ipython3",
   "version": "3.6.6"
  },
  "toc": {
   "base_numbering": 1,
   "nav_menu": {},
   "number_sections": true,
   "sideBar": true,
   "skip_h1_title": false,
   "title_cell": "Table of Contents",
   "title_sidebar": "Contents",
   "toc_cell": false,
   "toc_position": {},
   "toc_section_display": true,
   "toc_window_display": false
  }
 },
 "nbformat": 4,
 "nbformat_minor": 2
}
